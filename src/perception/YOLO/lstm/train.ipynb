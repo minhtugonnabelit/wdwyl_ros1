{
 "cells": [
  {
   "cell_type": "code",
   "execution_count": 25,
   "metadata": {},
   "outputs": [
    {
     "name": "stdout",
     "output_type": "stream",
     "text": [
      "The autoreload extension is already loaded. To reload it, use:\n",
      "  %reload_ext autoreload\n"
     ]
    }
   ],
   "source": [
    "%load_ext autoreload\n",
    "%autoreload 2\n",
    "%reload_ext autoreload"
   ]
  },
  {
   "cell_type": "code",
   "execution_count": 26,
   "metadata": {},
   "outputs": [],
   "source": [
    "import os\n",
    "\n",
    "from torch.utils.data import Dataset, DataLoader\n",
    "\n",
    "from ultralytics import YOLO\n",
    "\n",
    "from data.dataset import BoundingBoxDataset, MODEL_PATH, inspect_dataloader"
   ]
  },
  {
   "cell_type": "code",
   "execution_count": 27,
   "metadata": {},
   "outputs": [],
   "source": [
    "model = YOLO(MODEL_PATH)\n",
    "sequence_length = 20\n",
    "data_path = '/root/aifr/wdwyl_ros1/videos'\n",
    "train_data_path = os.path.join(data_path, 'train')\n",
    "val_data_path = os.path.join(data_path, 'val')\n",
    "\n",
    "batch_size = 1\n",
    "train_dataset = BoundingBoxDataset(train_data_path, yolo_model=model, sequence_length=sequence_length, \n",
    "                                   default_seq_label='train_default_sequence_label.npz')\n",
    "train_loader = DataLoader(train_dataset, batch_size=batch_size, shuffle=True)\n",
    "\n",
    "\n",
    "val_dataset = BoundingBoxDataset(val_data_path, yolo_model=model, sequence_length=sequence_length, \n",
    "                                 default_seq_label='val_default_sequence_label.npz')\n",
    "val_loader = DataLoader(val_dataset, batch_size=batch_size, shuffle=True)\n",
    "    \n",
    "# inspect_dataloader(train_loader)\n",
    "# inspect_dataloader(val_loader)"
   ]
  },
  {
   "cell_type": "code",
   "execution_count": 36,
   "metadata": {},
   "outputs": [],
   "source": [
    "import torch\n",
    "import torch.optim as optim\n",
    "import torch.nn as nn\n",
    "\n",
    "class BinaryLSTM(nn.Module):\n",
    "    \"\"\"\n",
    "    input and output tensors are of shape [batch, seq, feature]\n",
    "    \"\"\"\n",
    "\n",
    "    def __init__(self, input_size=1, output_size=1, hidden_size=50, num_layers=1):\n",
    "        super().__init__()\n",
    "\n",
    "        self.lstm = nn.LSTM(input_size=input_size, hidden_size=hidden_size, num_layers=num_layers, batch_first=True)\n",
    "        self.fc = nn.Linear(hidden_size, output_size)\n",
    "\n",
    "    def forward(self, x):\n",
    "        lstm_out, _ = self.lstm(x)\n",
    "        last_hidden_state = lstm_out[:, -1, :]\n",
    "        output = self.fc(last_hidden_state)\n",
    "        output = output.squeeze(-1)\n",
    "\n",
    "        return output\n",
    "\n",
    "LSTM_input_size = 1 # Each time step, a specific bounding box appears (1) or not (0) \n",
    "device = 'cuda:0'\n",
    "\n",
    "LSTM_model = BinaryLSTM(LSTM_input_size).to(device)\n",
    "optimizer = optim.Adam(LSTM_model.parameters(), lr=0.01)\n",
    "loss_fn = nn.BCEWithLogitsLoss() #nn.MSELoss()"
   ]
  },
  {
   "cell_type": "code",
   "execution_count": 39,
   "metadata": {},
   "outputs": [
    {
     "name": "stdout",
     "output_type": "stream",
     "text": [
      "Epoch:  0 \tTraining loss:    0.27 \tTesting loss:    0.35\n",
      "Epoch:  10 \tTraining loss:    0.26 \tTesting loss:    0.37\n",
      "Epoch:  20 \tTraining loss:    0.27 \tTesting loss:    0.38\n",
      "Epoch:  30 \tTraining loss:    0.26 \tTesting loss:    0.37\n"
     ]
    }
   ],
   "source": [
    "epochs = 40\n",
    "training_loss = []\n",
    "testing_loss = []\n",
    "for epoch in range(epochs):\n",
    "    for X_batch, y_batch in train_loader:\n",
    "\n",
    "        # print(\"x_batch shape: \", X_batch.shape)\n",
    "\n",
    "        LSTM_model.train()\n",
    "        \n",
    "        X_batch = X_batch.view(X_batch.size(0), X_batch.size(1), 1)\n",
    "        X_batch = X_batch.to(device)\n",
    "        y_batch = y_batch.to(device)\n",
    "\n",
    "        # print(\"y_batch shape: \", y_batch.shape)\n",
    "\n",
    "\n",
    "        # pass through the LSTM model\n",
    "        outputs = LSTM_model(X_batch)\n",
    "        # print(\"outputs shape: \", outputs.shape)\n",
    "\n",
    "        # loss function (remember the LSTM output and the y_batch must have the same shape)\n",
    "        loss = loss_fn(outputs, y_batch)\n",
    "\n",
    "        # backpropagation\n",
    "        optimizer.zero_grad()\n",
    "        loss.backward()\n",
    "        optimizer.step()\n",
    "\n",
    "        # raise RuntimeError(\"stop here\")\n",
    "\n",
    "    # testing\n",
    "    if epoch % 10 == 0:\n",
    "        with torch.no_grad():\n",
    "\n",
    "            # compute the loss function for the training set\n",
    "            total_loss = 0\n",
    "            number_of_batches = 0\n",
    "            for X_batch, y_batch in train_loader:\n",
    "\n",
    "                LSTM_model.eval()\n",
    "\n",
    "                X_batch = X_batch.view(X_batch.size(0), X_batch.size(1), 1)\n",
    "                X_batch = X_batch.to(device)\n",
    "                y_batch = y_batch.to(device)\n",
    "\n",
    "                # pass through the LSTM model\n",
    "                outputs = LSTM_model(X_batch)\n",
    "\n",
    "                # loss function\n",
    "                loss = loss_fn(outputs, y_batch)\n",
    "\n",
    "                total_loss += loss.item() # loss.item() returns the loss value as a float (free of the gradient)\n",
    "                number_of_batches += 1\n",
    "\n",
    "            training_loss.append(total_loss/number_of_batches)\n",
    "\n",
    "            # compute the loss function for the testing set\n",
    "            total_loss = 0\n",
    "            number_of_batches = 0\n",
    "            for X_batch, y_batch in val_loader:\n",
    "\n",
    "                LSTM_model.eval()\n",
    "                \n",
    "                X_batch = X_batch.view(X_batch.size(0), X_batch.size(1), 1)\n",
    "                X_batch = X_batch.to(device)\n",
    "                y_batch = y_batch.to(device)\n",
    "\n",
    "                # pass through the LSTM model\n",
    "                outputs = LSTM_model(X_batch)\n",
    "\n",
    "                # loss function\n",
    "                loss = loss_fn(outputs, y_batch)\n",
    "\n",
    "                total_loss += loss.item()\n",
    "                number_of_batches += 1\n",
    "\n",
    "            testing_loss.append(total_loss/number_of_batches)\n",
    "\n",
    "        # print the loss\n",
    "        print('Epoch: ', epoch, '\\tTraining loss: ', '% 6.2f' % training_loss[-1], '\\tTesting loss: ', '% 6.2f' % testing_loss[-1])"
   ]
  },
  {
   "cell_type": "code",
   "execution_count": 62,
   "metadata": {},
   "outputs": [
    {
     "data": {
      "image/png": "[encoded data removed]",
      "text/plain": [
       "<Figure size 1000x500 with 1 Axes>"
      ]
     },
     "metadata": {},
     "output_type": "display_data"
    }
   ],
   "source": [
    "import matplotlib.pyplot as plt\n",
    "\n",
    "# plot the losses\n",
    "plt.figure(figsize=(10, 5))\n",
    "plt.plot(range(0, 40, 10), training_loss, label='Training Loss')\n",
    "plt.plot(range(0, 40, 10), testing_loss, label='Testing Loss', marker='o')\n",
    "plt.xlabel('Epoch')\n",
    "plt.ylabel('Loss')\n",
    "plt.ylim(min(min(training_loss), min(testing_loss)) -0.05, max(max(training_loss), max(testing_loss)) + 0.05)\n",
    "\n",
    "plt.title('Training and Testing Loss Over Epochs')\n",
    "plt.legend()\n",
    "plt.grid(True)\n",
    "plt.show()"
   ]
  }
 ],
 "metadata": {
  "kernelspec": {
   "display_name": "Python 3",
   "language": "python",
   "name": "python3"
  },
  "language_info": {
   "codemirror_mode": {
    "name": "ipython",
    "version": 3
   },
   "file_extension": ".py",
   "mimetype": "text/x-python",
   "name": "python",
   "nbconvert_exporter": "python",
   "pygments_lexer": "ipython3",
   "version": "3.8.10"
  }
 },
 "nbformat": 4,
 "nbformat_minor": 2
}
