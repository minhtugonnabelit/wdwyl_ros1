{
 "cells": [
  {
   "cell_type": "code",
   "execution_count": null,
   "metadata": {},
   "outputs": [],
   "source": [
    "import os\n",
    "\n",
    "import torch\n",
    "import torchvision.transforms as tt\n",
    "from torchvision.datasets import ImageFolder\n",
    "\n",
    "import matplotlib.pyplot as plt\n",
    "\n",
    "from resnet_9_model import *"
   ]
  },
  {
   "cell_type": "markdown",
   "metadata": {},
   "source": [
    "## Initialise Data"
   ]
  },
  {
   "cell_type": "code",
   "execution_count": null,
   "metadata": {},
   "outputs": [],
   "source": [
    "resize_shape = (48,48)\n",
    "\n",
    "data_dir = '/home/selimon/Desktop/AI/wdwyl_ros1/src/perception/brand_classification/data/testing'\n",
    "print(os.listdir(data_dir))\n",
    "\n",
    "stats = ((0.4914, 0.4822, 0.4465), (0.2023, 0.1994, 0.2010))\n",
    "\n",
    "valid_tfms = tt.Compose([\n",
    "    tt.Resize(resize_shape),\n",
    "    tt.ToTensor(), \n",
    "    tt.Normalize(*stats)\n",
    "])\n",
    "\n",
    "# Load dataset & apply transformation\n",
    "test_ds = ImageFolder(data_dir, valid_tfms)"
   ]
  },
  {
   "cell_type": "code",
   "execution_count": null,
   "metadata": {},
   "outputs": [],
   "source": [
    "def get_default_device():\n",
    "    \"\"\"Pick GPU if available, else CPU\"\"\"\n",
    "    if torch.cuda.is_available():\n",
    "        print('cuda')\n",
    "        return torch.device('cuda')\n",
    "    else:\n",
    "        print('cpu')\n",
    "        return torch.device('cpu')\n",
    "    \n",
    "    \n",
    "def to_device(data, device):\n",
    "    \"\"\"Move tensor(s) to chosen device\"\"\"\n",
    "    if isinstance(data, (list,tuple)):\n",
    "        return [to_device(x, device) for x in data]\n",
    "    return data.to(device, non_blocking=True)\n",
    "\n",
    "\n",
    "def predict_image(img, model):\n",
    "    # Convert to a batch of 1\n",
    "    xb = to_device(img.unsqueeze(0), device)\n",
    "    # Get predictions from model\n",
    "    yb = model(xb)\n",
    "    # Apply softmax to get probabilities\n",
    "    probs = F.softmax(yb, dim=1)\n",
    "    # Retrieve the class labels\n",
    "    classes = test_ds.classes\n",
    "    # Print probabilities for each class\n",
    "    for i, prob in enumerate(probs[0]):\n",
    "        print(f'{classes[i]}: {prob}')\n",
    "    # Pick index with highest probability as predicted class\n",
    "    _, preds  = torch.max(yb, dim=1)\n",
    "    # Retrieve the class label\n",
    "    return test_ds.classes[preds[0].item()]"
   ]
  },
  {
   "cell_type": "markdown",
   "metadata": {},
   "source": [
    "## Initialise Model"
   ]
  },
  {
   "cell_type": "code",
   "execution_count": null,
   "metadata": {},
   "outputs": [],
   "source": [
    "device = get_default_device()\n",
    "\n",
    "# Load the model from a file and move it to the device\n",
    "model = ResNet9Pretrained(4).to(device)\n",
    "model.load_state_dict(torch.load('resnet9_model.pth', map_location=device))\n",
    "model.eval()  # Set the model to evaluation mode"
   ]
  },
  {
   "cell_type": "markdown",
   "metadata": {},
   "source": [
    "## Run Model"
   ]
  },
  {
   "cell_type": "markdown",
   "metadata": {},
   "source": [
    "## Testing with Individual Images"
   ]
  },
  {
   "cell_type": "code",
   "execution_count": null,
   "metadata": {},
   "outputs": [],
   "source": [
    "correct_predictions = 0\n",
    "total_images = len(test_ds)\n",
    "\n",
    "for i in range(total_images):\n",
    "    # Get the image and its label from the dataset\n",
    "    img, label = test_ds[i]\n",
    "    \n",
    "    # Make a prediction for the image using the model\n",
    "    predicted_class = predict_image(img, model)\n",
    "    \n",
    "    # Check if the prediction is correct\n",
    "    if predicted_class == test_ds.classes[label]:\n",
    "        correct_predictions += 1\n",
    "    \n",
    "    # Visualize the image\n",
    "    plt.imshow(img.permute(1, 2, 0).clamp(0, 1))\n",
    "    plt.title(f\"Predicted: {predicted_class}, Actual: {test_ds.classes[label]}\")\n",
    "    plt.show()\n"
   ]
  },
  {
   "cell_type": "markdown",
   "metadata": {},
   "source": [
    "## Accuracy"
   ]
  },
  {
   "cell_type": "code",
   "execution_count": null,
   "metadata": {},
   "outputs": [],
   "source": [
    "accuracy = correct_predictions / total_images\n",
    "print(f\"Accuracy on the test dataset: {accuracy:.2%}\")"
   ]
  }
 ],
 "metadata": {
  "kernelspec": {
   "display_name": "Python 3",
   "language": "python",
   "name": "python3"
  },
  "language_info": {
   "codemirror_mode": {
    "name": "ipython",
    "version": 3
   },
   "file_extension": ".py",
   "mimetype": "text/x-python",
   "name": "python",
   "nbconvert_exporter": "python",
   "pygments_lexer": "ipython3",
   "version": "3.8.10"
  }
 },
 "nbformat": 4,
 "nbformat_minor": 2
}
